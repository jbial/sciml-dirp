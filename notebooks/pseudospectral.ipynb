{
 "cells": [
  {
   "cell_type": "code",
   "execution_count": null,
   "id": "528c1861",
   "metadata": {},
   "outputs": [],
   "source": [
    "%load_ext autoreload\n",
    "%autoreload 2"
   ]
  },
  {
   "cell_type": "code",
   "execution_count": null,
   "id": "34b2e583",
   "metadata": {},
   "outputs": [],
   "source": [
    "from dataclasses import dataclass\n",
    "from math import pi\n",
    "from typing import Any\n",
    "\n",
    "import diffrax\n",
    "import jax\n",
    "import jax.numpy as jnp\n",
    "import matplotlib.pyplot as plt\n",
    "from celluloid import Camera\n",
    "from IPython.display import HTML\n",
    "from jax import Array\n",
    "from jaxtyping import Float\n",
    "\n",
    "jax.config.update(\"jax_enable_x64\", True)"
   ]
  },
  {
   "cell_type": "code",
   "execution_count": null,
   "id": "fa8ded0a",
   "metadata": {},
   "outputs": [],
   "source": [
    "def plot_solution(\n",
    "    u: Float[Array, \"T N\"],\n",
    "    tspan: tuple[float, float],\n",
    "    bounds: tuple[float, float],\n",
    "    title: str | None = None,\n",
    "    cmap: str = \"magma\",\n",
    ") -> None:\n",
    "    extent = [tspan[0], tspan[1], bounds[0], bounds[1]]\n",
    "    plt.figure(figsize=(10, 5))\n",
    "    plt.imshow(u.T, aspect=\"auto\", origin=\"lower\", extent=extent, cmap=\"magma\")\n",
    "    plt.xlabel(\"$t$\")\n",
    "    plt.ylabel(\"$x$\")\n",
    "    plt.title(title)\n",
    "    plt.colorbar(label=\"$u(x, t)$\")\n",
    "\n",
    "\n",
    "def plot_wavefront_1d(\n",
    "    ts: Float[Array, \" T\"],\n",
    "    xs: Float[Array, \" N\"],\n",
    "    u: Float[Array, \"T N\"],\n",
    "    bounds: tuple[float, float],\n",
    "    vline: float | None = None,\n",
    "    figsize: tuple[int, int] = (8, 4),\n",
    ") -> HTML:\n",
    "    fig, ax = plt.subplots(figsize=figsize)\n",
    "    camera = Camera(fig)\n",
    "\n",
    "    for i in range(u.shape[0]):\n",
    "        ax.plot(xs, u[i], color=\"r\")\n",
    "        if vline is not None:\n",
    "            ax.axvline(x=vline, color=\"k\", linestyle=\"-.\")\n",
    "        ax.set_ylim(u.min() - u.std(), u.max() + u.std())\n",
    "        ax.set_xlim(bounds[0], bounds[1])\n",
    "        ax.set_xlabel(\"$x$\")\n",
    "        ax.set_ylabel(\"$u(x, t)$\")\n",
    "        ax.text(0.5, 1.02, f\"$t = {ts[i]:.2f}$\", transform=ax.transAxes, ha=\"center\", fontsize=12)\n",
    "        camera.snap()\n",
    "\n",
    "    animation = camera.animate(interval=50)\n",
    "    plt.close(fig)\n",
    "    return HTML(animation.to_jshtml())\n"
   ]
  },
  {
   "cell_type": "markdown",
   "id": "604d1470",
   "metadata": {},
   "source": [
    "# The Psuedospectral Method\n",
    "\n",
    "Given a PDE operator $\\mathcal{R}$ it is often useful to split it into linear and nonlinear operators that satisfy the equation: $$\\frac{\\partial u}{\\partial t} = \\mathcal{R}[u] = \\mathcal{L}u + \\mathcal{N}[u]$$\n",
    "If we have periodic boundary conditions on the solution/function $u$, we can rely on the fourier transform to yield the __Fourier Pseudospectral Method__, though of course, there are fancier pseudospectral methods that can handle non-periodic functions.\n",
    "$$\\frac{\\partial \\hat{u}}{\\partial t} = \\sigma\\cdot\\hat{u} + \\mathcal{F}[\\mathcal{N}[\\mathcal{F}^{-1}[\\hat{u}]]]$$\n",
    "Where $\\hat{u} = \\mathcal{F}[u]$ and $\\mathcal{F}\\{\\mathcal{L}u\\}(k) = \\sigma(k)\\cdot\\hat{u}(k)$ is the Fourier transform of the linear term (this is attributed to the fact that _every continuous, shift-invariant, linear operator is equivalent to a convolution_ [[1]](https://matthewhirn.com/wp-content/uploads/2020/01/math994_spring2020_lecture01-1.pdf))\n",
    "\n",
    "In practice, we use the FFT to implement the Fourier transform. Note that in the above equation, the linear term can be treated exactly, but the nonlinear term is actually an approximation. The whole equation is in terms of $\\hat{u}$, so we transform back to \"real space\" to compute the nonlinear term and then transform back to Fourier space - this is mostly for efficiency reasons.\n"
   ]
  },
  {
   "cell_type": "code",
   "execution_count": null,
   "id": "804503d0",
   "metadata": {},
   "outputs": [],
   "source": [
    "@dataclass\n",
    "class PsuedoSpectralSolver1D:\n",
    "    N: int\n",
    "    bounds: tuple[float, float] = (-1, 1)\n",
    "\n",
    "    @property\n",
    "    def L(self) -> float:\n",
    "        return self.bounds[1] - self.bounds[0]\n",
    "\n",
    "    @property\n",
    "    def dimension(self) -> int:\n",
    "        return self.N + 2\n",
    "\n",
    "    def __post_init__(self) -> None:\n",
    "        self.ks = 2 * pi * jnp.fft.rfftfreq(self.N, self.L / self.N)\n",
    "        self.domain = jnp.linspace(*self.bounds, self.N, endpoint=False)\n",
    "\n",
    "    def to_fourier(self, u: Float[Array, \" N\"], N: int | None = None) -> Float[Array, \" dimension\"]:\n",
    "        \"\"\"FFT of a signal u, returns real/imag split format\n",
    "\n",
    "        :param u: input signal of shape (N,)\n",
    "        :param N: dimension of input signal\n",
    "\n",
    "        :return: Fourier coefficients in real/imag split format of shape (dimension)\n",
    "        \"\"\"\n",
    "        if N is None:\n",
    "            N = self.N\n",
    "\n",
    "        # shape: (N//2 + 1,)\n",
    "        uk = jnp.fft.rfft(u, n=N)\n",
    "\n",
    "        return jnp.concatenate([uk.real, uk.imag], axis=-1)\n",
    "\n",
    "    def to_spatial(self, uk: Float[Array, \" dimension\"], N: int | None = None) -> Float[Array, \" N\"]:\n",
    "        \"\"\"Inverse FFT of the modes to get u(x) at a certain time\n",
    "\n",
    "        :param uk: array of flattened fourier coefficients (real and imag components), can have batch dimensions\n",
    "        :param N: grid resolution in the spatial domain\n",
    "\n",
    "        :return: solution in the spatial domain\n",
    "        \"\"\"\n",
    "        if N is None:\n",
    "            N = self.N\n",
    "\n",
    "        coeffs = uk[..., : self.dimension // 2] + 1j * uk[..., self.dimension // 2 :]\n",
    "\n",
    "        return jnp.fft.irfft(coeffs, n=N)\n",
    "\n",
    "    def integrate(\n",
    "        self,\n",
    "        init_cond: Float[Array, \" dim\"],\n",
    "        tspan: list[float, float],\n",
    "        args: Any | None = None,\n",
    "        num_save_pts: int | None = None,\n",
    "        method: str = \"Tsit5\",\n",
    "        max_dt: float = 1e-3,\n",
    "        atol: float = 1e-8,\n",
    "        rtol: float = 1e-8,\n",
    "        pid: tuple[float] = [0.3, 0.3, 0.0],\n",
    "        max_steps: int | None = None,\n",
    "    ) -> tuple[Float[Array, \" T\"], Float[Array, \"T dim\"]]:\n",
    "        \"\"\"Integrate the dynamical system, and save a equispaced trajectory\n",
    "\n",
    "        :param init_cond: initial condition for the system\n",
    "        :param tspan: integration timespan [t_init, t_final]\n",
    "        :param args: optional args\n",
    "        :param num_save_pts: number of points to save for the trajectory from the integrator\n",
    "\n",
    "        :returns: Tuple of integrator times, and solution trajectory\n",
    "        \"\"\"\n",
    "        if num_save_pts is None:\n",
    "            save_pts = diffrax.SaveAt(t1=True)\n",
    "            progress_bar = diffrax.NoProgressMeter()\n",
    "        else:\n",
    "            save_pts = diffrax.SaveAt(ts=jnp.linspace(tspan[0], tspan[1], num_save_pts))\n",
    "            progress_bar = diffrax.TqdmProgressMeter(num_save_pts)\n",
    "\n",
    "        stepsize_controller = diffrax.PIDController(\n",
    "            rtol=atol,  # error tolerance of solution\n",
    "            atol=rtol,  # error tolerance of solution\n",
    "            pcoeff=pid[0],  # proportional strength for PID stepsize controller\n",
    "            icoeff=pid[1],  # integral strength for PID stepsize controller\n",
    "            dcoeff=pid[2],  # integral strength for PID stepsize controller\n",
    "            dtmax=max_dt,  # max step size\n",
    "        )\n",
    "        sol = diffrax.diffeqsolve(\n",
    "            diffrax.ODETerm(self.__call__),\n",
    "            getattr(diffrax, method)(),\n",
    "            *tspan,\n",
    "            y0=init_cond,\n",
    "            args=args,\n",
    "            dt0=max_dt,\n",
    "            saveat=save_pts,\n",
    "            max_steps=max_steps,\n",
    "            stepsize_controller=stepsize_controller,\n",
    "            progress_meter=progress_bar,\n",
    "        )\n",
    "        return jnp.asarray(sol.ts), jnp.asarray(sol.ys)\n"
   ]
  },
  {
   "cell_type": "markdown",
   "id": "4f8ed882",
   "metadata": {},
   "source": [
    "# Burgers Equation\n",
    "\n",
    "We use the notation $u_x$ as shorthand for $\\frac{\\partial{u}}{\\partial{x}}$ (the same goes for $u_t$). Also, $u_{xx} = \\frac{\\partial^2 u}{\\partial{x^2}}$ and so on. Burger's equation is a (1+1)-D (1 dimension for time + 1 dimension for space) nonlinear, hyperbolic partial differential equation (PDE):\n",
    "$$u_t + uu_x = \\nu u_{xx}$$\n",
    "Where $\\nu$ is the _viscosity_ of the system.\n",
    "\n",
    "This models _shock formation_ in traveling waves.\n",
    "\n",
    "\n",
    "We are going to _simulate_ this system by first setting some ground rules:\n",
    "1. We'll consider the dynamics of this PDE on the spatial domain $x \\in [0, L]$, and an arbitrary time span $t \\in [0, T]$\n",
    "2. We'll use periodic boundary conditions i.e. $u(0, t) = u(L, t),\\; \\forall t \\in [0, T]$\n",
    "\n",
    "Under the psuedospectral scheme, we have: $$\\frac{d \\hat{u}}{d t} = -\\nu k^2 \\hat{u} - \\text{FFT}[\\text{iFFT}[\\hat{u}]\\cdot\\text{iFFT}[ik\\hat{u}]]$$\n",
    "Notice that $\\hat{u}(k)$ can be expressed as a vector $\\hat{u} = [\\hat{u}_1, \\ldots, \\hat{u}_k, \\ldots, \\hat{u}_M]$ where $M$ is the number of modes that results from the discretization of the length $L$ domain. Thus, each Fourier mode is _predetermined_ via the discretization and is no longer a functional variable i.e. the PDE is now purely an ordinary differential equation (ODE) in time!\n",
    "\n"
   ]
  },
  {
   "cell_type": "code",
   "execution_count": null,
   "id": "c80986c9",
   "metadata": {},
   "outputs": [],
   "source": [
    "@dataclass\n",
    "class BurgersSolver(PsuedoSpectralSolver1D):\n",
    "    nu: float = 0.1\n",
    "\n",
    "    def __call__(self, t: float, uk: Float[Array, \" dim\"], args: Any | None = None) -> Float[Array, \" dim\"]:\n",
    "        n_half = self.dimension // 2\n",
    "        coeffs = uk[:n_half] + 1j * uk[n_half:]\n",
    "\n",
    "        # Diffusion term: -ν * k² * uk (in Fourier space)\n",
    "        diffusion_term = -self.nu * self.ks**2 * coeffs\n",
    "\n",
    "        # Nonlinear term: -u * u_x (computed in spatial domain, then FFT)\n",
    "        u = jnp.fft.irfft(coeffs, n=self.N)\n",
    "        ux_coeffs = 1j * self.ks * coeffs\n",
    "        ux = jnp.fft.irfft(ux_coeffs, n=self.N)\n",
    "        nonlinear_spatial = -u * ux\n",
    "        nonlinear_coeffs = jnp.fft.rfft(nonlinear_spatial)\n",
    "\n",
    "        flow = diffusion_term + nonlinear_coeffs\n",
    "        return jnp.concatenate([jnp.real(flow), jnp.imag(flow)])\n"
   ]
  },
  {
   "cell_type": "code",
   "execution_count": null,
   "id": "0dd2ddef",
   "metadata": {},
   "outputs": [],
   "source": [
    "solver = BurgersSolver(N=256, nu=1e-3)\n",
    "\n",
    "twosigma = 0.1\n",
    "ic = -solver.domain * jnp.exp(-(solver.domain**2) / twosigma)\n",
    "\n",
    "ic_k = solver.to_fourier(ic)\n",
    "ic_recon = solver.to_spatial(ic_k)\n",
    "\n",
    "plt.title(\"Initial Condition\")\n",
    "plt.plot(ic, label=\"original\")\n",
    "plt.plot(ic_recon, label=\"reconstruction\")\n",
    "plt.xlabel(\"$x$\")\n",
    "plt.ylabel(\"$u(x, 0)$\")\n",
    "plt.legend();"
   ]
  },
  {
   "cell_type": "code",
   "execution_count": null,
   "id": "7048a065",
   "metadata": {},
   "outputs": [],
   "source": [
    "# Integrate the system\n",
    "tspan = [0, 5]\n",
    "ts, uks = solver.integrate(ic_k, tspan, num_save_pts=100)\n",
    "\n",
    "u = solver.to_spatial(uks)\n",
    "print(u.shape)"
   ]
  },
  {
   "cell_type": "code",
   "execution_count": null,
   "id": "2a44ae3e",
   "metadata": {},
   "outputs": [],
   "source": [
    "plot_solution(u, tspan, solver.bounds, title=\"Burgers Equation Wavefront\")"
   ]
  },
  {
   "cell_type": "code",
   "execution_count": null,
   "id": "f7751183",
   "metadata": {},
   "outputs": [],
   "source": [
    "plot_wavefront_1d(ts, solver.domain, u, solver.bounds, vline=0.0)"
   ]
  },
  {
   "cell_type": "markdown",
   "id": "045a5b1b",
   "metadata": {},
   "source": [
    "# Kuramoto-Shivashinsky Equation\n",
    "This is a (1+1)-D spatiotemporal PDE, that exhibits _very_ rich dynamical behavior - namely, _spatiotemporal chaos_. \n",
    "$$u_t + u_{xx} + u_{xxxx} + \\frac{1}{2}(u^2)_x = 0$$\n",
    "This PDE models a wide range of phenomena such as 1-D flame fronts, liquid film sliding down an inclined surface, etc.\n",
    "\n",
    "Again, we assume periodic boundary equations and use the Fourier pseudospectral method:\n",
    "$$\\frac{d\\hat{u}}{dt} = (k^2 - k^4)\\hat{u} -\\frac{1}{2}ik\\cdot\\text{FFT}[\\text{iFFT}[\\hat{u}]^2]$$"
   ]
  },
  {
   "cell_type": "code",
   "execution_count": null,
   "id": "6e720cdb",
   "metadata": {},
   "outputs": [],
   "source": [
    "class KuramotoShivashinskySolver(PsuedoSpectralSolver1D):\n",
    "    def __call__(self, t: float, uk: Float[Array, \" dim\"], args: Any | None = None) -> Float[Array, \" dim\"]:\n",
    "        n_half = self.dimension // 2\n",
    "        coeffs = uk[:n_half] + 1j * uk[n_half:]\n",
    "\n",
    "        # Linear term: -u_xx - u_xxxx\n",
    "        linear_term = -(self.ks**4 - self.ks**2) * coeffs\n",
    "\n",
    "        # Nonlinear term: d/dx (0.5 * u**2)\n",
    "        u = jnp.fft.irfft(coeffs, n=self.N)\n",
    "        nonlinear_term = -1j * self.ks * jnp.fft.rfft(0.5 * u**2, n=self.N)\n",
    "\n",
    "        flow = linear_term + nonlinear_term\n",
    "        return jnp.concatenate([jnp.real(flow), jnp.imag(flow)])\n"
   ]
  },
  {
   "cell_type": "code",
   "execution_count": null,
   "id": "9e5390c3",
   "metadata": {},
   "outputs": [],
   "source": [
    "solver = KuramotoShivashinskySolver(N=256, bounds=(0, 100))\n",
    "\n",
    "# make random fourier series as initial condition\n",
    "num_sines = 5\n",
    "rng = jax.random.key(0)\n",
    "amp_rng, freq_rng = jax.random.split(rng, 2)\n",
    "amplitudes = jax.random.normal(amp_rng, shape=num_sines)\n",
    "frequencies = jax.random.uniform(freq_rng, shape=num_sines, minval=0, maxval=2)\n",
    "ic = amplitudes @ jnp.sin(frequencies[:, jnp.newaxis] * solver.domain[jnp.newaxis, :])\n",
    "ic *= jnp.exp(solver.domain / solver.L)\n",
    "\n",
    "ic_k = solver.to_fourier(ic)\n",
    "ic_recon = solver.to_spatial(ic_k)\n",
    "\n",
    "plt.title(\"Initial Condition\")\n",
    "plt.plot(ic, label=\"original\")\n",
    "plt.plot(ic_recon, label=\"reconstructed\")\n",
    "plt.ylabel(\"$u(x, 0)$\")\n",
    "plt.xlabel(\"$x\")\n",
    "plt.legend();"
   ]
  },
  {
   "cell_type": "code",
   "execution_count": null,
   "id": "f62981e9",
   "metadata": {},
   "outputs": [],
   "source": [
    "tspan = (0, 100)\n",
    "ts, uks = solver.integrate(ic_k, tspan=tspan, num_save_pts=300)\n",
    "\n",
    "us = solver.to_spatial(uks)"
   ]
  },
  {
   "cell_type": "code",
   "execution_count": null,
   "id": "da277a09",
   "metadata": {},
   "outputs": [],
   "source": [
    "plot_solution(us, tspan, bounds=solver.bounds, title=\"Kuramoto-Shivashinsky Wavefront\")"
   ]
  },
  {
   "cell_type": "code",
   "execution_count": null,
   "id": "3a8e0901",
   "metadata": {},
   "outputs": [],
   "source": [
    "plot_wavefront_1d(ts, solver.domain, us, bounds=solver.bounds)"
   ]
  },
  {
   "cell_type": "markdown",
   "id": "2ec8c7b3",
   "metadata": {},
   "source": [
    "# Question\n",
    "What happens when you change the domain length $L$? What happens to the shape of solution and the solve time and why?"
   ]
  },
  {
   "cell_type": "markdown",
   "id": "99eafcf5",
   "metadata": {},
   "source": [
    "# Korteweg-De Vries (KdV) Equation\n",
    "Yet another (1+1)-D nonlinear spatiotemporal PDE that is that models dispersive, non-dissipative waves on shallow water:\n",
    "$$u_t + u_{xxx} - 6uu_x = 0$$\n",
    "Mathematically, this PDE is very intriguing. It exhibits the following properties:\n",
    "1. Soliton solutions [[2]](https://en.wikipedia.org/wiki/Soliton): wave packets that are robust to collisions\n",
    "2. _Infinitely_ many conserved quantities e.g. mass, momentum, energy, etc\n",
    "3. Continuum limit of the Fermi-Pasta-Ulam-Tsinguo (FPUT) problem which is said to have birthed the field of scientific computing [[3]](https://people.maths.ox.ac.uk/porterm/papers/fpupop_final.pdf)\n",
    "\n",
    "With the usual Fourier machinery, we have:\n",
    "$$\\frac{d\\hat{u}}{dt} = ik^3\\hat{u} + 3ik\\cdot\\text{FFT}[\\text{iFFT}[\\hat{u}]^2]$$"
   ]
  },
  {
   "cell_type": "code",
   "execution_count": null,
   "id": "89fa015a",
   "metadata": {},
   "outputs": [],
   "source": [
    "class KortewegDeVriesSolver(PsuedoSpectralSolver1D):\n",
    "    def __call__(self, t: float, uk: Float[Array, \" dim\"], args: Any | None = None) -> Float[Array, \" dim\"]:\n",
    "        n_half = self.dimension // 2\n",
    "        coeffs = uk[:n_half] + 1j * uk[n_half:]\n",
    "\n",
    "        # Linear term: -u_xxx\n",
    "        linear_term = 1j * self.ks**3 * coeffs\n",
    "\n",
    "        # Nonlinear term: 3*(u^2)_x\n",
    "        u = jnp.fft.irfft(coeffs, n=self.N)\n",
    "        nonlinear_term = 3j * self.ks * jnp.fft.rfft(u**2, n=self.N)\n",
    "\n",
    "        flow = linear_term + nonlinear_term\n",
    "        return jnp.concatenate([jnp.real(flow), jnp.imag(flow)])"
   ]
  },
  {
   "cell_type": "code",
   "execution_count": null,
   "id": "f126b5fb",
   "metadata": {},
   "outputs": [],
   "source": [
    "solver = KortewegDeVriesSolver(N=256, bounds=(0, 50))\n",
    "\n",
    "twosigma = 50\n",
    "ic = jnp.cos(2.5 * pi * solver.domain / solver.L)\n",
    "\n",
    "ic_k = solver.to_fourier(ic)\n",
    "ic_recon = solver.to_spatial(ic_k)\n",
    "\n",
    "plt.title(\"Initial Condition\")\n",
    "plt.plot(ic, label=\"original\")\n",
    "plt.plot(ic_recon, label=\"reconstructed\")\n",
    "plt.ylabel(\"$u(x, 0)$\")\n",
    "plt.xlabel(\"$x$\")\n",
    "plt.legend();"
   ]
  },
  {
   "cell_type": "code",
   "execution_count": null,
   "id": "f6d166f7",
   "metadata": {},
   "outputs": [],
   "source": [
    "tspan = (0, 10)\n",
    "ts, uks = solver.integrate(ic_k, tspan=tspan, num_save_pts=100)\n",
    "\n",
    "us = solver.to_spatial(uks)"
   ]
  },
  {
   "cell_type": "code",
   "execution_count": null,
   "id": "7bf81e02",
   "metadata": {},
   "outputs": [],
   "source": [
    "plot_solution(us, tspan, solver.bounds, title=\"Korteweg-De Vries Wavefront\")"
   ]
  },
  {
   "cell_type": "code",
   "execution_count": null,
   "id": "d7e8f17f",
   "metadata": {},
   "outputs": [],
   "source": [
    "plot_wavefront_1d(ts, solver.domain, us, solver.bounds)"
   ]
  },
  {
   "cell_type": "markdown",
   "id": "50aa7f72",
   "metadata": {},
   "source": [
    "# What Happened?\n",
    "Why does it look like shit? This is a deterministic PDE, why does the solution look very stochastic?\n",
    "\n",
    "The noise is actually due to _aliasing error_.\n",
    "\n",
    "On an equally spaced grid of $N$ points, the maximum resolvable wavenumber from the DFT is $k_{max} = N/2$ (prove this). However, for a quadratic nonlinearity in the PDE, $\\text{DFT}[u\\cdot v]_k = [\\hat{u} * \\hat{v}]_k = \\sum_{i+j=k}\\hat{u}_i\\hat{v}_j$. Notice that since $i$ and $j$ _both_ go up to $k_{max}$, $k$ goes up to $2k_{max}$ which exceeds the maximum resolvable wavenumber. Moreover, $k_A = i + j + 2mk_{max}$ are _alias_ modes that are equivalent to modes within the region |k| < k_max (prove this). \n",
    "\n",
    "Aliased modes map high frequencies outside the resolvable band $-k_max, \\ldots, 0, \\ldots, k_max$ _back into_ the resolvable region. Thus, __high frequency modes from the real system corrupt the low frequency modes of the signal__.\n",
    "\n",
    "The solution to this issue is called _Orzag's 2/3 Aliasing Rule_ [[4]](https://journals.ametsoc.org/view/journals/atsc/28/6/1520-0469_1971_028_1074_oteoai_2_0_co_2.xml), which simply prescribes truncating the Fourier spectrum to the bottom 2/3 frequencies for the nonlinear terms."
   ]
  },
  {
   "cell_type": "code",
   "execution_count": null,
   "id": "5209aad3",
   "metadata": {},
   "outputs": [],
   "source": [
    "class KortewegDeVriesDealiasedSolver(PsuedoSpectralSolver1D):\n",
    "    def __call__(self, t: float, uk: Float[Array, \" dim\"], args: Any | None = None) -> Float[Array, \" dim\"]:\n",
    "        n_half = self.dimension // 2\n",
    "        coeffs = uk[:n_half] + 1j * uk[n_half:]\n",
    "\n",
    "        # Linear term: -u_xxx\n",
    "        linear_term = 1j * self.ks**3 * coeffs\n",
    "\n",
    "        # Nonlinear term: 3*(u^2)_x\n",
    "        u = jnp.fft.irfft(coeffs, n=self.N)\n",
    "        nonlinear_term = 3j * self.ks * jnp.fft.rfft(u**2, n=self.N)\n",
    "        mask = self.ks < 1 / 2 * jnp.max(self.ks)\n",
    "        nonlinear_term = nonlinear_term * mask\n",
    "\n",
    "        flow = linear_term + nonlinear_term\n",
    "        return jnp.concatenate([jnp.real(flow), jnp.imag(flow)])"
   ]
  },
  {
   "cell_type": "code",
   "execution_count": null,
   "id": "ba86dd1f",
   "metadata": {},
   "outputs": [],
   "source": [
    "solver = KortewegDeVriesDealiasedSolver(N=256, bounds=(0, 50))\n",
    "\n",
    "twosigma = 50\n",
    "ic = jnp.cos(2.5 * pi * solver.domain / solver.L)\n",
    "\n",
    "ic_k = solver.to_fourier(ic)\n",
    "ic_recon = solver.to_spatial(ic_k)\n",
    "\n",
    "plt.title(\"Initial Condition\")\n",
    "plt.plot(ic, label=\"original\")\n",
    "plt.plot(ic_recon, label=\"reconstructed\")\n",
    "plt.ylabel(\"$u(x, 0)$\")\n",
    "plt.xlabel(\"$x$\")\n",
    "plt.legend();"
   ]
  },
  {
   "cell_type": "code",
   "execution_count": null,
   "id": "0a5b1364",
   "metadata": {},
   "outputs": [],
   "source": [
    "tspan = (0, 10)\n",
    "ts, uks = solver.integrate(ic_k, tspan=tspan, num_save_pts=100)\n",
    "\n",
    "us = solver.to_spatial(uks)"
   ]
  },
  {
   "cell_type": "code",
   "execution_count": null,
   "id": "aefea90f",
   "metadata": {},
   "outputs": [],
   "source": [
    "plot_solution(us, tspan, solver.bounds, title=\"Korteweg-De Vries Wavefront\")"
   ]
  },
  {
   "cell_type": "code",
   "execution_count": null,
   "id": "e2b6b556",
   "metadata": {},
   "outputs": [],
   "source": [
    "plot_wavefront_1d(ts, solver.domain, us, solver.bounds)"
   ]
  },
  {
   "cell_type": "code",
   "execution_count": null,
   "id": "f1899855",
   "metadata": {},
   "outputs": [],
   "source": []
  }
 ],
 "metadata": {
  "kernelspec": {
   "display_name": ".venv",
   "language": "python",
   "name": "python3"
  },
  "language_info": {
   "codemirror_mode": {
    "name": "ipython",
    "version": 3
   },
   "file_extension": ".py",
   "mimetype": "text/x-python",
   "name": "python",
   "nbconvert_exporter": "python",
   "pygments_lexer": "ipython3",
   "version": "3.13.0"
  }
 },
 "nbformat": 4,
 "nbformat_minor": 5
}
